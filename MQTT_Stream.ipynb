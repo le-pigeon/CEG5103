{
  "nbformat": 4,
  "nbformat_minor": 0,
  "metadata": {
    "colab": {
      "provenance": [],
      "authorship_tag": "ABX9TyP03dMnc1NBcibtmgPUK7b5",
      "include_colab_link": true
    },
    "kernelspec": {
      "name": "python3",
      "display_name": "Python 3"
    },
    "language_info": {
      "name": "python"
    }
  },
  "cells": [
    {
      "cell_type": "markdown",
      "metadata": {
        "id": "view-in-github",
        "colab_type": "text"
      },
      "source": [
        "<a href=\"https://colab.research.google.com/github/le-pigeon/CEG5103/blob/main/MQTT_Stream.ipynb\" target=\"_parent\"><img src=\"https://colab.research.google.com/assets/colab-badge.svg\" alt=\"Open In Colab\"/></a>"
      ]
    },
    {
      "cell_type": "markdown",
      "source": [
        "Install dependencies"
      ],
      "metadata": {
        "id": "abJJ6L3OMNpF"
      }
    },
    {
      "cell_type": "code",
      "source": [
        "!pip install paho-mqtt\n"
      ],
      "metadata": {
        "colab": {
          "base_uri": "https://localhost:8080/"
        },
        "id": "bqnOTOOm3JQq",
        "outputId": "e9225daf-12c8-46ea-d93c-1eea0e42cd2e"
      },
      "execution_count": 7,
      "outputs": [
        {
          "output_type": "stream",
          "name": "stdout",
          "text": [
            "Successfully connected to MQTT broker.\n",
            "Successfully connected to MQTT broker.\n",
            "Requirement already satisfied: paho-mqtt in /usr/local/lib/python3.11/dist-packages (2.1.0)\n",
            "Successfully connected to MQTT broker.\n",
            "Successfully connected to MQTT broker.\n",
            "Successfully connected to MQTT broker.\n",
            "Successfully connected to MQTT broker.\n",
            "Successfully connected to MQTT broker.\n",
            "Requirement already satisfied: psutil in /usr/local/lib/python3.11/dist-packages (5.9.5)\n",
            "Successfully connected to MQTT broker.\n",
            "Successfully connected to MQTT broker.\n"
          ]
        }
      ]
    },
    {
      "cell_type": "markdown",
      "source": [
        "Copied from https://nothans.com/thingspeak-tutorials/update-a-thingspeak-channel-using-mqtt-on-a-raspberry-pi\n",
        "\n",
        "For test. Correct implementation to thingspeak below."
      ],
      "metadata": {
        "id": "VycAE3-qJsFn"
      }
    },
    {
      "cell_type": "code",
      "source": [
        "# Publich to a ThingSpeak Channel Using MQTT\n",
        "#\n",
        "# This is an example of publishing to multiple fields simultaneously.\n",
        "# Connections over standard TCP, websocket or SSL are possible by setting\n",
        "# the parameters below.\n",
        "#\n",
        "# CPU and RAM usage is collected every 20 seconds and published to a\n",
        "# ThingSpeak channel using an MQTT Publish\n",
        "#\n",
        "# This example requires the Paho MQTT client package which\n",
        "# is available at: http://eclipse.org/paho/clients/python\n",
        "import paho.mqtt.publish as publish\n",
        "import string\n",
        "\n",
        "# The ThingSpeak Channel ID.\n",
        "# Replace <YOUR-CHANNEL-ID> with your channel ID.\n",
        "channel_ID = \"2879119\"\n",
        "\n",
        "# The hostname of the ThingSpeak MQTT broker.\n",
        "mqtt_host = \"mqtt3.thingspeak.com\"\n",
        "\n",
        "# Your MQTT credentials for the device\n",
        "mqtt_client_ID = \"CDAxARguGDMsFxYCDDcmOjE\"\n",
        "mqtt_username  = \"CDAxARguGDMsFxYCDDcmOjE\"\n",
        "mqtt_password  = \"IUZXvw0Wpn17v6l+Rt9tPIMT\"\n",
        "\n",
        "t_transport = \"websockets\"\n",
        "t_port = 80\n",
        "\n",
        "# Create the topic string.\n",
        "topic = \"channels/\" + channel_ID + \"/publish\"\n",
        "\n",
        "while (True):\n",
        "\n",
        "    # get the system performance data over 20 seconds.\n",
        "    cpu_percent = \"5\"\n",
        "    ram_percent = \"20\"\n",
        "\n",
        "    # build the payload string.\n",
        "    payload = \"field1=\" + str(cpu_percent) + \"&field2=\" + str(ram_percent)\n",
        "\n",
        "    # attempt to publish this data to the topic.\n",
        "    try:\n",
        "        print (\"Writing Payload = \", payload,\" to host: \", mqtt_host, \" clientID= \", mqtt_client_ID, \" User \", mqtt_username, \" PWD \", mqtt_password)\n",
        "        publish.single(topic, payload, hostname=mqtt_host, transport=t_transport, port=t_port, client_id=mqtt_client_ID, auth={'username':mqtt_username,'password':mqtt_password})\n",
        "    except Exception as e:\n",
        "        print (e)"
      ],
      "metadata": {
        "id": "bj7koOfgGOof"
      },
      "execution_count": null,
      "outputs": []
    },
    {
      "cell_type": "markdown",
      "source": [
        "Run this one below to publish from CSV file."
      ],
      "metadata": {
        "id": "xh6lUsf1J046"
      }
    },
    {
      "cell_type": "code",
      "execution_count": null,
      "metadata": {
        "colab": {
          "base_uri": "https://localhost:8080/"
        },
        "id": "BHSA9exT3GJV",
        "outputId": "65139442-8738-4ea1-dde3-5e88c943d3c4"
      },
      "outputs": [
        {
          "output_type": "stream",
          "name": "stdout",
          "text": [
            "Successfully connected to MQTT broker.\n",
            "Upload 1 at 2025-03-16 14:21:38\n",
            "Writing Payload =  field1=147.2991029&field2=493.1729109&field3=131.4126515&field4=54.57653568&field5=0.0&status=MQTTPUBLISH  to host:  mqtt3.thingspeak.com  clientID=  CDAxARguGDMsFxYCDDcmOjE  User  CDAxARguGDMsFxYCDDcmOjE  PWD  IUZXvw0Wpn17v6l+Rt9tPIMT\n",
            "Successfully connected to MQTT broker.\n",
            "Successfully connected to MQTT broker.\n",
            "Successfully connected to MQTT broker.\n",
            "Successfully connected to MQTT broker.\n",
            "Successfully connected to MQTT broker.\n",
            "Successfully connected to MQTT broker.\n",
            "Successfully connected to MQTT broker.\n",
            "Successfully connected to MQTT broker.\n",
            "Upload 2 at 2025-03-16 14:21:44\n",
            "Writing Payload =  field1=149.3906948&field2=425.9102458&field3=135.8148788&field4=46.57387499&field5=0.0&status=MQTTPUBLISH  to host:  mqtt3.thingspeak.com  clientID=  CDAxARguGDMsFxYCDDcmOjE  User  CDAxARguGDMsFxYCDDcmOjE  PWD  IUZXvw0Wpn17v6l+Rt9tPIMT\n",
            "Successfully connected to MQTT broker.\n",
            "Successfully connected to MQTT broker.\n",
            "Successfully connected to MQTT broker.\n",
            "Successfully connected to MQTT broker.\n",
            "Successfully connected to MQTT broker.\n",
            "Successfully connected to MQTT broker.\n",
            "Successfully connected to MQTT broker.\n",
            "Successfully connected to MQTT broker.\n",
            "Upload 3 at 2025-03-16 14:21:49\n",
            "Writing Payload =  field1=171.6416306&field2=478.9460652&field3=115.0468976&field4=50.58242932&field5=0.0&status=MQTTPUBLISH  to host:  mqtt3.thingspeak.com  clientID=  CDAxARguGDMsFxYCDDcmOjE  User  CDAxARguGDMsFxYCDDcmOjE  PWD  IUZXvw0Wpn17v6l+Rt9tPIMT\n",
            "Successfully connected to MQTT broker.\n",
            "Successfully connected to MQTT broker.\n",
            "Successfully connected to MQTT broker.\n",
            "Successfully connected to MQTT broker.\n"
          ]
        }
      ],
      "source": [
        "import pandas as pd\n",
        "import requests\n",
        "import json\n",
        "import time\n",
        "import io\n",
        "import paho.mqtt.client as mqtt\n",
        "import paho.mqtt.publish as publish\n",
        "import string\n",
        "from datetime import datetime\n",
        "\n",
        "# Publich to a ThingSpeak Channel Using MQTT\n",
        "#\n",
        "# This is an example of publishing to multiple fields simultaneously.\n",
        "# Connections over standard TCP, websocket or SSL are possible by setting\n",
        "# the parameters below.\n",
        "#\n",
        "# CPU and RAM usage is collected every 20 seconds and published to a\n",
        "# ThingSpeak channel using an MQTT Publish\n",
        "#\n",
        "# This example requires the Paho MQTT client package which\n",
        "# is available at: http://eclipse.org/paho/clients/python\n",
        "\n",
        "#############################\n",
        "# Please change the details below or you'll just be sending to my test channel\n",
        "#############################\n",
        "\n",
        "# The ThingSpeak Channel ID.\n",
        "# Replace <YOUR-CHANNEL-ID> with your channel ID.\n",
        "channel_ID = \"2879119\"\n",
        "\n",
        "# The hostname of the ThingSpeak MQTT broker.\n",
        "mqtt_host = \"mqtt3.thingspeak.com\"\n",
        "\n",
        "# Your MQTT credentials for the device\n",
        "mqtt_client_ID = \"CDAxARguGDMsFxYCDDcmOjE\"\n",
        "mqtt_username  = \"CDAxARguGDMsFxYCDDcmOjE\"\n",
        "mqtt_password  = \"IUZXvw0Wpn17v6l+Rt9tPIMT\"\n",
        "\n",
        "t_transport = \"websockets\"\n",
        "t_port = 80\n",
        "\n",
        "# Create the topic string.\n",
        "topic = \"channels/\" + channel_ID + \"/publish\"\n",
        "\n",
        "# GitHub URL of the CSV file (raw URL)\n",
        "CSV_URL = \"https://raw.githubusercontent.com/le-pigeon/CEG5103/refs/heads/main/IoTSensorStream.csv\"\n",
        "\n",
        "# Reading the CSV file from GitHub\n",
        "def read_csv_from_github(url):\n",
        "    response = requests.get(url)\n",
        "    csv_data = response.text\n",
        "    df = pd.read_csv(io.StringIO(csv_data))\n",
        "    return df\n",
        "\n",
        "counter = 0\n",
        "\n",
        "# Automatically map CSV columns to ThingSpeak fields (skipping field1)\n",
        "def send_data_to_thingspeak(df):\n",
        "    global counter\n",
        "    for index, row in df.iterrows():\n",
        "        counter += 1\n",
        "        current_time = datetime.now().strftime(\"%Y-%m-%d %H:%M:%S\")\n",
        "        payload = \"\"  # Initialize the payload as empty\n",
        "\n",
        "        # Map columns to ThingSpeak fields, starting from field1 (excluding field1)\n",
        "        for i, column in enumerate(df.columns):\n",
        "            if i > 0:  # Ensure we do not exceed ThingSpeak's max field count\n",
        "                field_name = f\"field{i}\"  # Adjust field name based on ThingSpeak field indexing\n",
        "                payload += f\"{field_name}={row[column]}&\"\n",
        "\n",
        "        # Always append status=MQTTPUBLISH at the end\n",
        "        payload += \"status=MQTTPUBLISH\"\n",
        "\n",
        "        # Remove the last \"&\" from the payload if present (for cleaner output)\n",
        "        payload = payload.rstrip(\"&\")\n",
        "\n",
        "        # attempt to publish this data to the topic.\n",
        "        try:\n",
        "          print(f\"Upload {counter} at {current_time}\")\n",
        "          print (\"Writing Payload = \", payload,\" to host: \", mqtt_host, \" clientID= \", mqtt_client_ID, \" User \", mqtt_username, \" PWD \", mqtt_password)\n",
        "          publish.single(\n",
        "              topic,\n",
        "              payload,\n",
        "              hostname=mqtt_host,\n",
        "              transport=t_transport,\n",
        "              port=t_port,\n",
        "              client_id=mqtt_client_ID,\n",
        "              auth={'username':mqtt_username,'password':mqtt_password}\n",
        "          )\n",
        "\n",
        "        except Exception as e:\n",
        "            print(f\"Error while publishing data: {e}\")\n",
        "        time.sleep(5)\n",
        "\n",
        "\n",
        "# Read and send data from CSV file\n",
        "df = read_csv_from_github(CSV_URL)\n",
        "send_data_to_thingspeak(df)\n",
        "\n",
        "#time.sleep(7)  # Adjust the interval as needed\n"
      ]
    }
  ]
}